{
 "cells": [
  {
   "cell_type": "markdown",
   "id": "2ffb116c",
   "metadata": {},
   "source": [
    "### euler\n",
    "___"
   ]
  },
  {
   "cell_type": "code",
   "execution_count": 1,
   "id": "2baf5d2f",
   "metadata": {},
   "outputs": [],
   "source": [
    "def euler(f, x, t, h):\n",
    "    \"\"\"Perform one step of the Euler method\"\"\"\n",
    "    return x + f(x, t) * h"
   ]
  },
  {
   "cell_type": "markdown",
   "id": "d954db16",
   "metadata": {},
   "source": [
    "### rk4\n",
    "___"
   ]
  },
  {
   "cell_type": "code",
   "execution_count": 2,
   "id": "2817bd37",
   "metadata": {},
   "outputs": [],
   "source": [
    "def rk4(f, x, t, h):\n",
    "    k1 = f (x, t)\n",
    "    k2 = f (x+k1*h/2, t+h/2)\n",
    "    k3 = f (x+k2*h/2, t+h/2)\n",
    "    k4 = f (x+k3*h, t+h)\n",
    "    return  x + (k1 + 2*k2 + 2*k3 + k4)*h/6"
   ]
  },
  {
   "cell_type": "markdown",
   "id": "864894eb",
   "metadata": {},
   "source": [
    "### solveto\n",
    "___\n",
    "I use the while statement and indicate that the value of solveto is 1 when T1 = T2."
   ]
  },
  {
   "cell_type": "code",
   "execution_count": 3,
   "id": "73338aeb",
   "metadata": {},
   "outputs": [],
   "source": [
    "def solveto(f, x1, t1, t2, hmax, method=euler):\n",
    "    M = method\n",
    "    if M == euler and t2 - t1 != 0:\n",
    "       while t1 < t2:\n",
    "             x2 = x1\n",
    "             x1 = euler(f, x1, t1, hmax)\n",
    "             t1 = t1 + hmax\n",
    "             if t1 == t2:\n",
    "                return x1\n",
    "             elif t1 > t2:\n",
    "                  hmax0 = t2 - t1 + hmax\n",
    "                  tm = t1 - hmax\n",
    "                  return x2 + f(x2, tm) * hmax0\n",
    "    if M == rk4 and t2 - t1 != 0:\n",
    "       while t1 < t2:\n",
    "             x2 = x1\n",
    "             x1 = rk4(f, x1, t1, hmax)\n",
    "             t1 = t1 + hmax\n",
    "             if t1 == t2:\n",
    "                return x1\n",
    "             elif t1 > t2:\n",
    "                  hmax0 = t2 - t1 + hmax\n",
    "                  tm = t1 - hmax\n",
    "                  return rk4(f, x2, tm, hmax0)\n",
    "    if t2 - t1 == 0:\n",
    "       XX = 1\n",
    "       return XX"
   ]
  },
  {
   "cell_type": "markdown",
   "id": "fc2d0d5f",
   "metadata": {},
   "source": [
    "### odesolve\n",
    "___"
   ]
  },
  {
   "cell_type": "code",
   "execution_count": 4,
   "id": "c5d201e4",
   "metadata": {},
   "outputs": [],
   "source": [
    "def odesolve(f, X0, t, hmax, method=euler):\n",
    "    import numpy as np\n",
    "    M = method\n",
    "    X01 = np.array(X0)\n",
    "    t1 = np.array(t)\n",
    "    X02 = X01[0]\n",
    "    i = 0\n",
    "    list = []\n",
    "    if M == euler:\n",
    "        while i < 5:\n",
    "              X03 = solveto(f, X02, t1[i], 1, hmax, euler)\n",
    "              i = i + 1\n",
    "              list.insert(0, X03)\n",
    "        C = np.array(list)\n",
    "        D = np.mat(C)\n",
    "        return D\n",
    "    if M == rk4:\n",
    "       while i < 5:\n",
    "            while i < 5:\n",
    "              X03 = solveto(f, X02, t1[i], 1, hmax, rk4)\n",
    "              i = i + 1\n",
    "              list.insert(0, X03)\n",
    "       C = np.array(list)\n",
    "       D = np.mat(C)\n",
    "       return D"
   ]
  },
  {
   "cell_type": "markdown",
   "id": "5fcb44f8",
   "metadata": {},
   "source": [
    "the code which will give the plot."
   ]
  },
  {
   "cell_type": "code",
   "execution_count": 5,
   "id": "57e73919",
   "metadata": {},
   "outputs": [
    {
     "data": {
      "image/png": "[encoded data removed]",
      "text/plain": [
       "<Figure size 432x288 with 1 Axes>"
      ]
     },
     "metadata": {
      "needs_background": "light"
     },
     "output_type": "display_data"
    }
   ],
   "source": [
    "import matplotlib.pyplot as pl\n",
    "import numpy as np\n",
    "def f(x,t):\n",
    "    return x\n",
    "x0 = [1]\n",
    "tvals = np.linspace(0, 1, 5)\n",
    "ge = odesolve(f, x0, tvals, 0.001, euler)\n",
    "pl.plot(tvals, ge.T)\n",
    "pl.savefig('shm.pdf')\n",
    "pl.show( )\n"
   ]
  },
  {
   "cell_type": "markdown",
   "id": "50c17827",
   "metadata": {},
   "source": []
  }
 ],
 "metadata": {
  "kernelspec": {
   "display_name": "Python 3",
   "language": "python",
   "name": "python3"
  },
  "language_info": {
   "codemirror_mode": {
    "name": "ipython",
    "version": 3
   },
   "file_extension": ".py",
   "mimetype": "text/x-python",
   "name": "python",
   "nbconvert_exporter": "python",
   "pygments_lexer": "ipython3",
   "version": "3.8.8"
  }
 },
 "nbformat": 4,
 "nbformat_minor": 5
}
